{
 "cells": [
  {
   "cell_type": "markdown",
   "metadata": {
    "colab_type": "text",
    "id": "GUvdvAaASzmD"
   },
   "source": [
    "# Lab 03: Cây quyết định & Hồi quy tuyến tính"
   ]
  },
  {
   "cell_type": "markdown",
   "metadata": {},
   "source": [
    "- Họ tên: Đinh Thị Thúy Hường\n",
    "- MSSV: 21120176"
   ]
  },
  {
   "cell_type": "markdown",
   "metadata": {},
   "source": [
    "<font color='red'>**LƯU Ý:**</font>\n",
    "\n",
    "- Bài làm của sinh viên phải do chính bản thân sinh viên tự làm, có thể trao đổi và tham khảo ý tưởng nhưng không được sao chép (một phần hoặc toàn bộ) code hoặc lời giải từ bất cứ người nào khác. Nếu vi phạm sẽ bị <font color='red'>0đ</font> bài tập này.\n",
    "- Các bạn có thể tạo thêm các cell trong quá trình code, tuy nhiên các bạn vui lòng <font color='red'>không xóa các cell code mặc định và các cell test case</font> (vì có thể ảnh hưởng đến kết quả khi chấm bài).\n",
    "- Các test case được đưa ra chỉ nhằm mục đích giúp các bạn test code của mình, <font color='red'>**việc pass các test case này không đồng nghĩa với việc lời giải của các bạn sẽ đạt điểm tối đa**</font>. "
   ]
  },
  {
   "cell_type": "markdown",
   "metadata": {},
   "source": [
    "**Cách làm bài**\n",
    "\n",
    "\n",
    "Bạn sẽ làm trực tiếp trên file notebook này; trong file, từ `TODO` để cho biết những phần mà bạn cần phải làm."
   ]
  },
  {
   "cell_type": "markdown",
   "metadata": {},
   "source": [
    "**Cách nộp bài**\n",
    "\n",
    "Khi chấm bài, đầu tiên mình sẽ chọn `Kernel` - `Restart Kernel & Run All Cells`, để restart và chạy tất cả các cell trong notebook của các bạn; do đó, trước khi nộp bài, các bạn nên chạy thử `Kernel` - `Restart Kernel & Run All Cells` để đảm bảo mọi chuyện diễn ra đúng như mong đợi.\n",
    "\n",
    "Sau đó, các bạn tạo thư mục nộp bài theo cấu trúc sau:\n",
    "\n",
    "- Thư mục `MSSV` (vd, nếu bạn có MSSV là 1234567 thì bạn đặt tên thư mục là `1234567`)\n",
    "    - File `MSSV.ipynb` (Đổi tên file notebook này theo MSSV của bạn)\n",
    "\n",
    "Cuối cùng, các bạn nén thư mục `MSSV` này lại và nộp ở link trên moodle. **Đuôi của file nén phải là .zip (chứ không được .rar hay gì khác).**\n",
    "\n",
    "<font color=red>Các bạn lưu ý tuân thủ chính xác qui định nộp bài ở trên.</font>"
   ]
  },
  {
   "cell_type": "markdown",
   "metadata": {},
   "source": [
    "**Nội dung bài tập**\n",
    "\n",
    "Bài tập 3 là bài tập cá nhân. Trong bài này, bạn sẽ cài đặt thuật toán học máy: \n",
    "1. Cây quyết định (Decision tree)\n",
    "2. Hồi quy tuyến tính (Linear Regression)"
   ]
  },
  {
   "cell_type": "markdown",
   "metadata": {
    "colab_type": "text",
    "id": "lYefhgwoSzmZ"
   },
   "source": [
    "### Tải những thư viện cần thiết"
   ]
  },
  {
   "cell_type": "code",
   "execution_count": 1,
   "metadata": {
    "colab": {},
    "colab_type": "code",
    "id": "uXTmvF6JSzmb"
   },
   "outputs": [
    {
     "name": "stderr",
     "output_type": "stream",
     "text": [
      "C:\\Users\\ASUS\\anaconda3\\lib\\site-packages\\scipy\\__init__.py:155: UserWarning: A NumPy version >=1.18.5 and <1.25.0 is required for this version of SciPy (detected version 1.26.1\n",
      "  warnings.warn(f\"A NumPy version >={np_minversion} and <{np_maxversion}\"\n"
     ]
    }
   ],
   "source": [
    "\n",
    "import os\n",
    "from zlib import adler32\n",
    "from typing import Tuple, List\n",
    "import requests\n",
    "import shutil\n",
    "import random\n",
    "\n",
    "import scipy\n",
    "import numpy as np\n",
    "import sklearn.datasets as datasets\n",
    "import matplotlib.pyplot as plt"
   ]
  },
  {
   "cell_type": "code",
   "execution_count": 2,
   "metadata": {},
   "outputs": [],
   "source": [
    "# Init seed\n",
    "seed = 2024\n",
    "random.seed(seed)\n",
    "np.random.seed(seed)\n",
    "os.environ[\"PYTHONHASHSEED\"] = str(seed)"
   ]
  },
  {
   "cell_type": "markdown",
   "metadata": {},
   "source": [
    "### Tải tập dữ liệu Iris"
   ]
  },
  {
   "cell_type": "code",
   "execution_count": 3,
   "metadata": {},
   "outputs": [],
   "source": [
    "def download_dataset(save_path: str = \"data\"):\n",
    "    \"\"\"Function for downloading Iris dataset\n",
    "\n",
    "    After calling this function, the dataset will automated download, unzip and remove the original zip file.\n",
    "    \n",
    "    The structure will organized like this: \n",
    "    data\n",
    "    ├── bezdekIris.data\n",
    "    ├── Index\n",
    "    ├── iris.data\n",
    "    └── iris.names\n",
    "    \n",
    "    Args:\n",
    "        save_path (str, optional): Path to save directory for Iris dataset. Defaults to \"data\".\n",
    "    \"\"\"\n",
    "    # Setup directory\n",
    "    data_dir = os.path.join(\n",
    "        os.getcwd(), save_path\n",
    "    )  # Join paths to get the data directory path\n",
    "\n",
    "    # Create the directory if it doesn't exist\n",
    "    if not os.path.exists(data_dir):\n",
    "        os.makedirs(data_dir, exist_ok=True)\n",
    "    else:\n",
    "        # If exists, removes it :)\n",
    "        shutil.rmtree(data_dir)\n",
    "        os.makedirs(data_dir, exist_ok=True)\n",
    "\n",
    "    # Define URL and file paths\n",
    "    iris_url = \"https://archive.ics.uci.edu/static/public/53/iris.zip\"\n",
    "    iris_zip_path = os.path.join(data_dir, \"iris.zip\")\n",
    "\n",
    "    # Download the iris dataset ZIP file\n",
    "    with requests.get(iris_url, stream=True) as r:\n",
    "        with open(iris_zip_path, \"wb\") as f:\n",
    "            shutil.copyfileobj(r.raw, f)\n",
    "\n",
    "    # Extract the ZIP file\n",
    "    shutil.unpack_archive(iris_zip_path, data_dir)\n",
    "\n",
    "    # Remove the ZIP file after extraction\n",
    "    os.remove(iris_zip_path)\n",
    "    \n",
    "# Download Iris and mpg dataset by calling `download_dataset` function\n",
    "download_dataset()"
   ]
  },
  {
   "cell_type": "markdown",
   "metadata": {
    "colab_type": "text",
    "id": "CO6JKObwSzmn"
   },
   "source": [
    "### Đọc tập dữ liệu Iris"
   ]
  },
  {
   "cell_type": "code",
   "execution_count": 4,
   "metadata": {
    "colab": {},
    "colab_type": "code",
    "id": "6EFp9Jl3Szmo"
   },
   "outputs": [
    {
     "data": {
      "text/plain": [
       "((150, 4), (150,))"
      ]
     },
     "execution_count": 4,
     "metadata": {},
     "output_type": "execute_result"
    }
   ],
   "source": [
    "def iris_dataloader(data_path: str = \"data/iris.data\") -> Tuple[np.ndarray, np.ndarray]:\n",
    "    \"\"\"Function for loading Iris dataset :)\n",
    "\n",
    "    Args:\n",
    "        data_path (str, optional): Path to Iris dataset. Defaults to \"data/iris.data\".\n",
    "\n",
    "    Returns:\n",
    "        Tuple[np.ndarray, np.ndarray]: return two numpy's array named `features` and `classes`, respectively.\n",
    "    \"\"\"\n",
    "    # YOUR CODE HERE\n",
    "    # raise NotImplementedError()\n",
    "    sepal_length = []\n",
    "    sepal_width = []\n",
    "    petal_length = []\n",
    "    petal_width = []\n",
    "    classes = []\n",
    "\n",
    "    # Classes mapping\n",
    "    class_mapping = {\"Iris-setosa\": 0,\n",
    "                     \"Iris-versicolor\": 1, \"Iris-virginica\": 2}\n",
    "\n",
    "    # Read data from file\n",
    "    with open(data_path, \"r\") as file:\n",
    "        # Read data each line\n",
    "        for line in file:\n",
    "            line = line.strip()  # Remove newline character and leading/trailing spaces\n",
    "            if line:  # Check if line is not empty\n",
    "                parts = line.split(\",\")\n",
    "                sepal_length.append(float(parts[0]))\n",
    "                sepal_width.append(float(parts[1]))\n",
    "                petal_length.append(float(parts[2]))\n",
    "                petal_width.append(float(parts[3]))\n",
    "                classes.append(class_mapping[parts[4]])\n",
    "\n",
    "    # Concatenate features\n",
    "    features = np.array(\n",
    "        [sepal_length, sepal_width, petal_length, petal_width]).T\n",
    "\n",
    "    # Convert classes to numpy array\n",
    "    classes = np.array(classes)\n",
    "\n",
    "    return features, classes\n",
    "\n",
    "\n",
    "# Thực hiện tải dữ liệu\n",
    "features, classes = iris_dataloader()\n",
    "features.shape, classes.shape"
   ]
  },
  {
   "cell_type": "code",
   "execution_count": 5,
   "metadata": {},
   "outputs": [],
   "source": [
    "# TEST\n",
    "assert (\n",
    "    adler32(str(features[0][:5] + features[1][:5] + features[2][:5]).encode())\n",
    "    == 750060552\n",
    ")"
   ]
  },
  {
   "cell_type": "markdown",
   "metadata": {},
   "source": [
    "### Phân chia tập train-valid-test"
   ]
  },
  {
   "cell_type": "code",
   "execution_count": 6,
   "metadata": {},
   "outputs": [
    {
     "data": {
      "text/plain": [
       "((100, 4), (50, 4), (100,), (50,))"
      ]
     },
     "execution_count": 6,
     "metadata": {},
     "output_type": "execute_result"
    }
   ],
   "source": [
    "def train_test_split(\n",
    "    X: np.ndarray, y: np.ndarray, test_ratio=0.33\n",
    ") -> Tuple[np.ndarray, np.ndarray, np.ndarray, np.ndarray]:\n",
    "    \"\"\"Function for proceduring train, and test sets.\n",
    "\n",
    "    Args:\n",
    "        X (np.ndarray): input features.\n",
    "        y (np.ndarray): input labels.\n",
    "        test_ratio (float, optional): ratio size for test sets. Defaults to 0.33.\n",
    "\n",
    "    Returns:\n",
    "        Tuple[np.ndarray, np.ndarray, np.ndarray, np.ndarray]: features, label for train, test respectively. \n",
    "        They are represented as numpy array.\n",
    "    \"\"\"\n",
    "    n = X.shape[0]\n",
    "    idx = np.random.permutation(n)  # Shuffle indices\n",
    "    train_size = int((1 - test_ratio) * n)\n",
    "\n",
    "    # Split indices for training and test sets\n",
    "    train_idx = idx[:train_size]\n",
    "    test_idx = idx[train_size:]\n",
    "\n",
    "    # Index into X and y to create training and test sets\n",
    "    X_train = X[train_idx, :]\n",
    "    X_test = X[test_idx, :]\n",
    "\n",
    "    y_train = y[train_idx]\n",
    "    y_test = y[test_idx]\n",
    "\n",
    "    return (\n",
    "        X_train,\n",
    "        X_test,\n",
    "        y_train,\n",
    "        y_test,\n",
    "    )\n",
    "\n",
    "\n",
    "# Phân chia tập train, test.\n",
    "X_train, X_test, y_train, y_test = train_test_split(features, classes)\n",
    "X_train.shape, X_test.shape, y_train.shape, y_test.shape"
   ]
  },
  {
   "cell_type": "code",
   "execution_count": 7,
   "metadata": {},
   "outputs": [],
   "source": [
    "# TEST\n",
    "SP = X_train.shape + X_test.shape + y_train.shape + y_test.shape\n",
    "assert adler32(str(SP).encode()) == 867828770"
   ]
  },
  {
   "cell_type": "markdown",
   "metadata": {
    "colab_type": "text",
    "id": "kz-C6eu2Szmt"
   },
   "source": [
    "## Cây quyết định"
   ]
  },
  {
   "cell_type": "markdown",
   "metadata": {
    "colab_type": "text",
    "id": "UEQ7wvnpSzm3"
   },
   "source": [
    "### Độ lợi thông tin"
   ]
  },
  {
   "cell_type": "markdown",
   "metadata": {
    "colab_type": "text",
    "id": "9doZ5CKSSzm5"
   },
   "source": [
    "Thông tin kỳ vọng (entropy):"
   ]
  },
  {
   "cell_type": "markdown",
   "metadata": {
    "colab_type": "text",
    "id": "KmJNW8LxSzm6"
   },
   "source": [
    "$$Entropy=-\\sum_{i}^{n}p_ilog_{2}(p_i)$$"
   ]
  },
  {
   "cell_type": "markdown",
   "metadata": {
    "colab_type": "text",
    "id": "Z-H-41plSzm7"
   },
   "source": [
    "Hàm entropy đạt giá trị nhỏ nhất nếu có một giá trị $p_i=1$, đạt giá trị lớn nhất nếu tất cả các $p_i$ bằng nhau. Những tính chất này của hàm entropy khiến nó được sử dụng trong việc đo độ hỗn loạn của một phép phân chia của ID3."
   ]
  },
  {
   "cell_type": "code",
   "execution_count": 8,
   "metadata": {
    "colab": {},
    "colab_type": "code",
    "id": "HGAwlg1dSzm9"
   },
   "outputs": [],
   "source": [
    "def entropy(counts: List, n_samples: int) -> float:\n",
    "    \"\"\"Function for calculating entropy\n",
    "\n",
    "    Args:\n",
    "        counts (list): list number of samples in each class.\n",
    "        n_samples (int): number of data samples.\n",
    "\n",
    "    Return:\n",
    "        entropy (float).\n",
    "    \"\"\"\n",
    "    # YOUR CODE HERE\n",
    "    # Calculate the probabilities of each class\n",
    "    probabilities = [count / n_samples for count in counts]\n",
    "    \n",
    "    # Calculate the entropy using the formula\n",
    "    entropy = -sum(p * np.log2(p) for p in probabilities if p > 0)\n",
    "    return entropy"
   ]
  },
  {
   "cell_type": "code",
   "execution_count": 9,
   "metadata": {
    "colab": {},
    "colab_type": "code",
    "id": "EJ7on8pvSznN"
   },
   "outputs": [],
   "source": [
    "def entropy_of_one_division(division: np.ndarray) -> Tuple[float, int]:\n",
    "    \"\"\"Function for calculating entropy of a divided group of data.\n",
    "\n",
    "    Please note that data may have multiple classes.\n",
    "\n",
    "    Args:\n",
    "        division (np.ndarray): input divided group of data.\n",
    "\n",
    "    Returns:\n",
    "        Tuple[float, int]: entropy of a divided group of data.\n",
    "    \"\"\"\n",
    "    n_samples = len(division)\n",
    "    n_classes = set(division)\n",
    "\n",
    "    counts = []\n",
    "    # count samples in each class then store it to list counts\n",
    "    # YOUR CODE HERE\n",
    "    for ci in n_classes:\n",
    "        counts.append(np.sum(division == ci))\n",
    "    # Calculate entropy\n",
    "    each_entropy = entropy(counts,n_samples)\n",
    "    return each_entropy, n_samples"
   ]
  },
  {
   "cell_type": "code",
   "execution_count": 10,
   "metadata": {
    "colab": {},
    "colab_type": "code",
    "id": "3XWpYwi_Lco6"
   },
   "outputs": [],
   "source": [
    "def get_entropy(y_predict: np.ndarray, y: np.ndarray):\n",
    "    \"\"\"Get entropy for a split.\n",
    "\n",
    "    Args:\n",
    "        y_predict (np.ndarray): the split decision by cutoff, True/Fasle.\n",
    "        y (np.ndarray): grouth truth.\n",
    "\n",
    "    Returns:\n",
    "        s (float): entropy of input split, as real-number represented with float type.\n",
    "    \"\"\"\n",
    "    n = len(y)\n",
    "    entropy_true, n_true = entropy_of_one_division(y[y_predict])  # left hand side entropy\n",
    "    \n",
    "    entropy_false, n_false = entropy_of_one_division(y[~y_predict])  # right hand side entropy\n",
    "    # overall entropy\n",
    "    # YOUR CODE HERE\n",
    "    s = (n_true / n) * entropy_true + (n_false / n) * entropy_false\n",
    "    return s"
   ]
  },
  {
   "cell_type": "markdown",
   "metadata": {
    "colab_type": "text",
    "id": "fFI9qoMWSznZ"
   },
   "source": [
    "Độ lợi thông tin phân lớp tập D theo thuộc tính A:\n",
    "$$ Gain(A)=Entropy(D)-Entropy_{A}(D)$$\n",
    "\n",
    "Trong ID3, tại mỗi node, thuộc tính được chọn được xác định dựa trên là thuộc tính khiến cho information gain đạt giá trị lớn nhất.\n",
    "\n",
    "Các thuộc tính của tập Iris đều có giá trị liên tục. Do đó ta cần rời rạc hóa cho từng thuộc tính. Cách đơn giản là sử dụng một ngưỡng `cutoff` chia giá trị của dữ liệu trên mỗi thuộc tính sẽ làm 2 phần: `<cutoff` và `>=cutoff`.\n",
    "\n",
    "Để tìm ngưỡng `cutoff` tốt nhất cho mỗi thuộc tính ta lần lượt thay `cutoff` bằng các giá trị của thuộc tính sau đó tính entropy, `cutoff` tốt nhất khi entropy bé nhất \n",
    "\n",
    "$$\\left(\\arg\\min Entropy_{A}(D)\\right)$$"
   ]
  },
  {
   "cell_type": "markdown",
   "metadata": {
    "colab_type": "text",
    "id": "sCQvubYDSzna"
   },
   "source": [
    "### Cài đặt"
   ]
  },
  {
   "cell_type": "markdown",
   "metadata": {},
   "source": [
    "#### Tìm một phân hoạch với một độ lợi thông tin cho trước"
   ]
  },
  {
   "cell_type": "code",
   "execution_count": 11,
   "metadata": {},
   "outputs": [],
   "source": [
    "def find_best_split(\n",
    "    col_data: np.ndarray, y: np.ndarray\n",
    ") -> Tuple[np.float64, np.float64]:\n",
    "    \"\"\"Function for calculating minimum entropy for a given attributes and its label.\n",
    "\n",
    "    Args:\n",
    "        col_data (np.ndarray): input column data in training dataset.\n",
    "        y (np.ndarray): given label in the training dataset.\n",
    "\n",
    "    Returns:\n",
    "        min_entropy, cutoff (Tuple[np.float64, np.float64]): the minimum entropy, and cut-off value.\n",
    "    \"\"\"\n",
    "    min_entropy = float(\"inf\")\n",
    "    cutoff = None\n",
    "\n",
    "    # Loop through col_data find cutoff where entropy is minimum\n",
    "    for value in set(col_data):\n",
    "        y_predict = col_data < value\n",
    "        my_entropy = get_entropy(y_predict, y)\n",
    "\n",
    "        # min entropy=?, cutoff=?\n",
    "        # YOUR CODE HERE\n",
    "        # Update min_entropy and cutoff if a lower entropy is found\n",
    "        if my_entropy < min_entropy:\n",
    "            min_entropy = my_entropy\n",
    "            cutoff = value\n",
    "\n",
    "    # Return min entropy, and cutoff\n",
    "    return min_entropy, cutoff"
   ]
  },
  {
   "cell_type": "code",
   "execution_count": 12,
   "metadata": {},
   "outputs": [],
   "source": [
    "def find_best_split_of_all(\n",
    "    X: np.ndarray, y: np.ndarray\n",
    ") -> Tuple[np.float64, np.float64, np.float64]:\n",
    "    \"\"\"Function for finding one split given an information gain.\n",
    "\n",
    "    Args:\n",
    "        X (np.ndarray): input training dataset.\n",
    "        y (np.ndarray): given label in the training dataset.\n",
    "\n",
    "    Returns:\n",
    "        col_idx, cutoff, min_entropy (Tuple[np.float64, np.float64, np.float64]): return the index \n",
    "        of column with minimum entropy and cut-off value.\n",
    "    \"\"\"\n",
    "    col_idx = None\n",
    "    min_entropy = float(\"inf\")\n",
    "    cutoff = None\n",
    "\n",
    "    for idx, col_data in enumerate(X.T):\n",
    "        entropy, cur_cutoff = find_best_split(col_data, y)\n",
    "\n",
    "        if entropy == 0:  # best entropy\n",
    "            return idx, cur_cutoff, entropy\n",
    "        elif entropy <= min_entropy:\n",
    "            min_entropy = entropy\n",
    "            col_idx = idx\n",
    "            cutoff = cur_cutoff\n",
    "\n",
    "    return col_idx, cutoff, min_entropy"
   ]
  },
  {
   "cell_type": "markdown",
   "metadata": {},
   "source": [
    "#### Khớp dữ liệu"
   ]
  },
  {
   "cell_type": "code",
   "execution_count": 13,
   "metadata": {},
   "outputs": [],
   "source": [
    "def dtfit(X: np.ndarray, y: np.ndarray, depth: int = 0) -> dict:\n",
    "    \"\"\"Function for data-fitting with Decision Tree\n",
    "\n",
    "    Node: each node represented by cutoff value and column index, value and children.\n",
    "         - cutoff value is thresold where you divide your attribute,\n",
    "         - column index is your data attribute index,\n",
    "         - value of node is mean value of label indexes,\n",
    "           if a node is leaf all data samples will have same label.\n",
    "\n",
    "    Note that: we divide each attribute into 2 part => each node will have 2 children: left, right.\n",
    "\n",
    "    Args:\n",
    "        X (np.ndarray): training data\n",
    "        y (np.ndarray): label of training data\n",
    "        depth (int, optional): depth of decision tree after training. Defaults to 0.\n",
    "\n",
    "    Returns:\n",
    "        node (dict): return the node that contains cutoff value and column index, value and children.\n",
    "    \"\"\"\n",
    "    # Stop conditions: if all value of y are the same\n",
    "    if np.all(y == y[0]):\n",
    "        return {\"val\": y[0]}\n",
    "\n",
    "    # find one split given an information gain\n",
    "    col_idx, cutoff, entropy = find_best_split_of_all(X, y)\n",
    "\n",
    "    y_left = y[X[:, col_idx] < cutoff]\n",
    "    y_right = y[X[:, col_idx] >= cutoff]\n",
    "    X_left = X[X[:, col_idx] < cutoff]\n",
    "    X_right = X[X[:, col_idx] >= cutoff]\n",
    "\n",
    "    node = {\n",
    "        \"index_col\": col_idx,\n",
    "        \"cutoff\": cutoff,\n",
    "        \"val\": np.mean(y),\n",
    "        \"left\": None,\n",
    "        \"right\": None,\n",
    "    }\n",
    "\n",
    "    node[\"left\"] = dtfit(X_left, y_left, depth + 1)\n",
    "    node[\"right\"] = dtfit(X_right, y_right, depth + 1)\n",
    "\n",
    "    return node"
   ]
  },
  {
   "cell_type": "code",
   "execution_count": 14,
   "metadata": {},
   "outputs": [],
   "source": [
    "# Khớp dữ liệu\n",
    "tree = dtfit(X_train, y_train)"
   ]
  },
  {
   "cell_type": "markdown",
   "metadata": {},
   "source": [
    "#### Dự đoán"
   ]
  },
  {
   "cell_type": "code",
   "execution_count": 15,
   "metadata": {},
   "outputs": [],
   "source": [
    "def _dtpredict(tree: dict, row: np.ndarray) -> int:\n",
    "    \"\"\"Function for making prediction use trained DT tree on given observation.\n",
    "\n",
    "    Args:\n",
    "        tree (dict): trained DT model which presented as a dict.\n",
    "        row (np.ndarray): given observation which presented as numpy's array.\n",
    "\n",
    "    Returns:\n",
    "        val (int): return the value of node which is mean value of label indexes.\n",
    "    \"\"\"\n",
    "    cur_layer = tree\n",
    "    while \"cutoff\" in cur_layer:\n",
    "        if row[cur_layer[\"index_col\"]] < cur_layer[\"cutoff\"]:\n",
    "            cur_layer = cur_layer[\"left\"]\n",
    "        else:\n",
    "            cur_layer = cur_layer[\"right\"]\n",
    "    return cur_layer.get(\"val\", False)"
   ]
  },
  {
   "cell_type": "code",
   "execution_count": 16,
   "metadata": {},
   "outputs": [],
   "source": [
    "# TEST\n",
    "given_observation = features[81]\n",
    "groud_truth = classes[81]\n",
    "assert groud_truth == _dtpredict(tree, given_observation)"
   ]
  },
  {
   "cell_type": "code",
   "execution_count": 17,
   "metadata": {},
   "outputs": [],
   "source": [
    "def dtpredict(tree: dict, data: np.ndarray) -> List:\n",
    "    \"\"\"Function for making prediction with trained DT model on given input observations.\n",
    "\n",
    "    Args:\n",
    "        tree (dict): trained DT model which presented as a dict.\n",
    "        data (np.ndarray): input input observations.\n",
    "\n",
    "    Returns:\n",
    "        pred (List): list of predicted label for input observations.\n",
    "    \"\"\"\n",
    "    pred = []\n",
    "    for _, col in enumerate(data):\n",
    "        pred.append(_dtpredict(tree, col))\n",
    "    return pred"
   ]
  },
  {
   "cell_type": "code",
   "execution_count": 18,
   "metadata": {},
   "outputs": [],
   "source": [
    "# TEST\n",
    "given_observations = features[81:118]\n",
    "groud_truth = classes[81:118]\n",
    "res = (groud_truth == dtpredict(tree, given_observations))\n",
    "assert adler32(str(res).encode()) == 382551575"
   ]
  },
  {
   "cell_type": "markdown",
   "metadata": {},
   "source": [
    "#### Đánh giá mô hình"
   ]
  },
  {
   "cell_type": "code",
   "execution_count": 19,
   "metadata": {},
   "outputs": [],
   "source": [
    "def tpfptnfn_cal(\n",
    "    y_test: np.ndarray, y_pred: np.ndarray, positive_class: int = 1\n",
    ") -> Tuple[int, int, int, int]:\n",
    "    \"\"\"Function for calculating elements of confusion matrix.\n",
    "\n",
    "    Args:\n",
    "        y_test (np.ndarray): groud truth.\n",
    "        y_pred (np.ndarray): predicted label.\n",
    "        positive_class (int, optional): wanted calculating class. Defaults to 1.\n",
    "\n",
    "    Returns:\n",
    "        true_positives, false_positives, true_negatives, false_negatives (Tuple[int, int, int, int]): Four \n",
    "        basic number for constructing confusion matrix  including true positives, false positives, true negatives, \n",
    "        and false negatives.\n",
    "    \"\"\"\n",
    "    true_positives = 0\n",
    "    false_positives = 0\n",
    "    true_negatives = 0\n",
    "    false_negatives = 0\n",
    "\n",
    "    # Calculate true positives, false positives, false negatives, and true negatives\n",
    "    # YOUR CODE HERE\n",
    "    for yt, yp in zip(y_test, y_pred):\n",
    "        if yt == positive_class and yp == positive_class:\n",
    "            true_positives += 1\n",
    "        elif yt != positive_class and yp == positive_class:\n",
    "            false_positives += 1\n",
    "        elif yt == positive_class and yp != positive_class:\n",
    "            false_negatives += 1\n",
    "        else:\n",
    "            true_negatives += 1\n",
    "\n",
    "    return true_positives, false_positives, true_negatives, false_negatives"
   ]
  },
  {
   "cell_type": "code",
   "execution_count": 20,
   "metadata": {},
   "outputs": [],
   "source": [
    "# TEST\n",
    "tp, fp, tn, fn = tpfptnfn_cal([1, 0, 1, 1, 0, 0, 1], [1, 0, 0, 1, 0, 1, 1])\n",
    "assert adler32((str(tp) + str(fp) + str(tn) + str(fn)).encode()) == 33030344"
   ]
  },
  {
   "cell_type": "code",
   "execution_count": 21,
   "metadata": {},
   "outputs": [],
   "source": [
    "# Dự đoán\n",
    "pred = dtpredict(tree, X_test)"
   ]
  },
  {
   "cell_type": "code",
   "execution_count": 22,
   "metadata": {},
   "outputs": [],
   "source": [
    "def calculate_metrics(\n",
    "    y_test: np.ndarray, y_pred: np.ndarray\n",
    ") -> Tuple[float, float, float, float]:\n",
    "    \"\"\"Function for calculating metrics of classification problem including accuracy, recall, \n",
    "    precision, and f1-score.\n",
    "\n",
    "    Args:\n",
    "        y_test (np.ndarray): groud truth.\n",
    "        y_pred (np.ndarray): predicted label.\n",
    "\n",
    "    Returns:\n",
    "        acc, precision, recall, f1 (Tuple[float, float, float, float]): return four values \n",
    "        for each metric: accuracy, recall, precision, and f1-score.\n",
    "    \"\"\"\n",
    "    acc = 0\n",
    "    precision = 0\n",
    "    recall = 0\n",
    "    f1 = 0\n",
    "\n",
    "    noc = len(np.unique(y_test))  # number of classes\n",
    "\n",
    "    # YOUR CODE HERE\n",
    "    for ci in np.unique(y_test):\n",
    "        tp, fp, tn, fn = tpfptnfn_cal(y_test, y_pred, positive_class=ci)\n",
    "\n",
    "        # Calculate metrics for the current class\n",
    "        class_accuracy = (tp + tn) / (tp + tn + fp + fn) if (tp + tn + fp + fn) > 0 else 0\n",
    "        class_precision = tp / (tp + fp) if (tp + fp) > 0 else 0\n",
    "        class_recall = tp / (tp + fn) if (tp + fn) > 0 else 0\n",
    "        class_f1 = 2 * class_precision * class_recall / (class_precision + class_recall) if (class_precision !=0 and class_recall !=0) else 0\n",
    "\n",
    "        # Accumulate metrics\n",
    "        acc += class_accuracy\n",
    "        precision += class_precision\n",
    "        recall += class_recall\n",
    "        f1 += class_f1\n",
    "\n",
    "    # Average the metrics across all classes\n",
    "    acc /= noc\n",
    "    precision /= noc\n",
    "    recall /= noc\n",
    "    f1 = 2 * precision * recall / (precision + recall) if (precision + recall) else 0\n",
    "\n",
    "    # Just for logging\n",
    "    print(f\"acc: {acc}\\nprecision: {precision}\\nrecall: {recall}\\nf1_score: {f1}\\n\")\n",
    "    return acc, precision, recall, f1"
   ]
  },
  {
   "cell_type": "code",
   "execution_count": 23,
   "metadata": {},
   "outputs": [
    {
     "name": "stdout",
     "output_type": "stream",
     "text": [
      "acc: 0.9733333333333333\n",
      "precision: 0.9606481481481483\n",
      "recall: 0.9606481481481483\n",
      "f1_score: 0.9606481481481483\n",
      "\n"
     ]
    },
    {
     "data": {
      "text/plain": [
       "(0.9733333333333333,\n",
       " 0.9606481481481483,\n",
       " 0.9606481481481483,\n",
       " 0.9606481481481483)"
      ]
     },
     "execution_count": 23,
     "metadata": {},
     "output_type": "execute_result"
    }
   ],
   "source": [
    "# Đánh giá mô hình cây quyết định.\n",
    "calculate_metrics(y_test, pred)"
   ]
  },
  {
   "cell_type": "markdown",
   "metadata": {},
   "source": [
    "### Nghiên cứu về ý nghĩa các độ đo"
   ]
  },
  {
   "cell_type": "markdown",
   "metadata": {},
   "source": [
    "Bạn hãy trình ý nghĩa từng độ đo, bao gồm accuracy, precision, recall và f-score."
   ]
  },
  {
   "cell_type": "markdown",
   "metadata": {},
   "source": [
    "- **Accuracy**\n",
    "    - Ý nghĩa:\n",
    "        - Accuracy là độ đo cơ bản nhất để đánh giá tỷ lệ các dự đoán đúng của mô hình so với tổng số dự đoán.\n",
    "        - Nó thường được sử dụng để đo lường khả năng chính xác của mô hình phân loại.\n",
    "        - Accuracy cho ta biết tỷ lệ phần trăm các dự đoán đúng trong tổng số lượng mẫu.\n",
    "    - Vai trò:\n",
    "        - Accuracy cung cấp một cái nhìn tổng quát về hiệu suất của mô hình.\n",
    "        - Nó là tiêu chuẩn chính để so sánh giữa các mô hình khác nhau.\n",
    "        - Accuracy phù hợp khi các lớp dữ liệu có sự cân bằng về số lượng mẫu.\n",
    "    - Lưu ý:\n",
    "        - Tuy nhiên, accuracy có thể bị sai lệch nếu các lớp dữ liệu không cân bằng về số lượng mẫu. Ví dụ, trong trường hợp 95% dữ liệu thuộc về lớp A và chỉ 5% thuộc về lớp B, một mô hình đoán tất cả là lớp A có thể đạt accuracy cao nhưng không phản ánh chính xác khả năng phân loại của nó.\n",
    "\n",
    "- **Precision & Recall:**\n",
    "    - Precision là tỉ lệ số điểm Positive mô hình dự đoán đúng trên tổng số điểm mô hình dự đoán là Positive. Recall là tỉ lệ số điểm Positive mô hình dự đoán đúng trên tổng số điểm thật sự là Positive (hay tổng số điểm được gán nhãn là Positive ban đầu).\n",
    "    - Precision càng cao, tức là số điểm mô hình dự đoán là positive đều là positive càng nhiều. Precision = 1, tức là tất cả số điểm mô hình dự doán là Positive đều đúng, hay không có điểm nào có nhãn là Negative mà mô hình dự đoán nhầm là Positive. Recall càng cao, tức là số điểm là positive bị bỏ sót càng ít. Recall = 1, tức là tất cả số điểm có nhãn là Positive đều được mô hình nhận ra.\n",
    "    - Để hiểu rõ hơn về hai chỉ số này, ta có thể tưởng tượng một ví dụ như sau. Khi một người nghĩ là mình đang mắc bệnh gì đó, họ thường đi đến bệnh viện để làm các xét nghiệm để bác sĩ chẩn đoán xem kết quả là dương tính hay là âm tính. Ta có hai trường hợp về tình trạng bệnh là mắc bệnh hoặc không mắc bệnh. Ta có hai trường hợp về kết quả chẩn đoán là dương tính và âm tính.\n",
    "    - Khi đó, precision là tỉ lệ người được chẩn đoán là dương tính thật sự mắc bệnh trên tổng số người được chẩn đoán là dương tính. Nếu precision = 0.9, thì cứ 100 người được chẩn đoán là dương tính thì sẽ thật sự có 90 người mắc bệnh. Precision càng cao thì xác suất người được chẩn đoán là dương tính có khả năng mắc bệnh càng cao.\n",
    "    - Recall là tỉ lệ người được chẩn đoán là dương tính thật sự mắc bệnh trên tổng số người thật sự mắc bệnh. Nếu recall = 0.9, thì cứ 100 người mắc bệnh thì sẽ chẩn đoán 90 người dương tính. Recall càng cao thì xác suất người mắc bệnh được chẩn đoán là dương tính càng cao.\n",
    "- **F1-score:**\n",
    "    - Tuy nhiên, chỉ có Precision hay chỉ có Recall thì không đánh giá được chất lượng mô hình.\n",
    "        - Chỉ dùng Precision, mô hình chỉ đưa ra dự đoán cho một điểm mà nó chắc chắn nhất. Khi đó Precision = 1, tuy nhiên ta không thể nói là mô hình này tốt.\n",
    "        - Chỉ dùng Recall, nếu mô hình dự đoán tất cả các điểm đều là positive. Khi đó Recall = 1, tuy nhiên ta cũng không thể nói đây là mô hình tốt.\n",
    "    - => Khi đó F1-score được sử dụng. F1-score là trung bình điều hòa (harmonic mean) của precision và recall (giả sử hai đại lượng này khác 0). F1-score được tinh theo công thức: 2/F1 = 1/precision + 1/recall.\n"
   ]
  },
  {
   "cell_type": "markdown",
   "metadata": {},
   "source": [
    "## Hồi quy tuyến tính"
   ]
  },
  {
   "cell_type": "markdown",
   "metadata": {},
   "source": [
    "Ta xem xét một bộ dữ liệu thí nghiệm như sau (nói trước, bộ này không có trong thực tế, chỉ mang tính chất giới thiệu về hồi quy tuyến tính). Bộ dữ liệu này chỉ có một biến độc lập, và một biến phụ thuộc. "
   ]
  },
  {
   "cell_type": "markdown",
   "metadata": {},
   "source": [
    "|   | 1  | 2  | 3  | 4  | 5  | 6  | 7  | 8  | 9  | 10 |\n",
    "|---|---|---|---|---|---|---|---|---|---|---|\n",
    "| $X$  | 7.0  | 6.5  | 6.5  | 6.0  | 6.0  | 6.0  | 5.5  | 5.5  | 5.0  | 4.5  |\n",
    "| $Y$  | 29  | 32  | 31  | 34  | 32  | 35  | 40  | 43  | 48  | 50  |"
   ]
  },
  {
   "cell_type": "code",
   "execution_count": 24,
   "metadata": {},
   "outputs": [],
   "source": [
    "def RMSE(y, ypred):\n",
    "    rmse = np.sqrt(np.mean((y-ypred)**2))\n",
    "    return rmse"
   ]
  },
  {
   "cell_type": "code",
   "execution_count": 25,
   "metadata": {},
   "outputs": [],
   "source": [
    "# Chuẩn bị dữ liệu\n",
    "X = np.array([7.0, 6.5, 6.5, 6.0, 6.0, 6.0, 5.5, 5.5, 5.0, 4.5])\n",
    "y = np.array([29, 32, 31, 34, 32, 35, 40, 43, 48, 50])\n",
    "X = X.reshape(-1,1) # 5x1 vector, N=5, D=1\n",
    "y = y.reshape(-1,1) # 5x1 vector"
   ]
  },
  {
   "cell_type": "markdown",
   "metadata": {},
   "source": [
    "Xem biểu đồ tương quan giữa biến độc lập và biến phụ thuộc."
   ]
  },
  {
   "cell_type": "code",
   "execution_count": 26,
   "metadata": {},
   "outputs": [
    {
     "data": {
      "image/png": "[encoded data removed]",
      "text/plain": [
       "<Figure size 500x400 with 1 Axes>"
      ]
     },
     "metadata": {},
     "output_type": "display_data"
    }
   ],
   "source": [
    "# Create a figure and two subplots\n",
    "fig, axs = plt.subplots(1, 1, figsize=(5, 4))\n",
    "\n",
    "# Scatter plot for the first feature\n",
    "axs.scatter(X, y, color='blue', edgecolors='k')\n",
    "axs.set_xlabel('Feature 1')\n",
    "axs.set_ylabel('Target')\n",
    "axs.set_title('Feature 1 vs Target')\n",
    "\n",
    "# Display the plots\n",
    "plt.show()"
   ]
  },
  {
   "cell_type": "markdown",
   "metadata": {},
   "source": [
    "Dựa trên hình ảnh trực quan hóa, ta có thể sử dụng mô hình hồi quy để mô hình hóa quan hệ giữa các feature 1 với target. Xem xét dạng của bài toán hồi quy tuyến tính như sau:\n",
    "\n",
    "$$\n",
    "y = \\boldsymbol x^T\\boldsymbol\\theta + \\epsilon\\,,\\quad \\epsilon \\sim \\mathcal N(0, \\sigma^2)\n",
    "$$\n",
    "trong đó $\\boldsymbol x\\in\\mathbb{R}^D$ là biến phụ thuộc (đầu vào) và $y\\in\\mathbb{R}$ là các quan sát bị nhiễu. Vector tham số $\\boldsymbol\\theta\\in\\mathbb{R}^D$ tham số hóa hàm tuyến tính này.\n",
    "\n",
    "Giả sử có tập huấn luyện $(\\boldsymbol x_n, y_n)$, $n=1,\\ldots, N$. Ta hình thức hóa các bộ dữ liệu đầu vào huấn luyện theo thứ tự $\\mathcal X = \\{\\boldsymbol x_1, \\ldots, \\boldsymbol x_N\\}$ và các mục tiêu huấn luyện tương ứng $\\mathcal Y = \\{y_1, \\ldots, y_N\\}$."
   ]
  },
  {
   "cell_type": "markdown",
   "metadata": {},
   "source": [
    "### Triển vọng cực đại"
   ]
  },
  {
   "cell_type": "markdown",
   "metadata": {},
   "source": [
    "Phương pháp ước tính triển vọng cực đại của các tham số $\\boldsymbol\\theta$. Trong ước tính triển vọng cực đại, các tham số $\\boldsymbol\\theta^{\\mathrm{ML}}$ cực đại hóa likelihood\n",
    "\n",
    "$$\n",
    "p(\\mathcal Y | \\mathcal X, \\boldsymbol\\theta) = \\prod_{n=1}^N p(y_n | \\boldsymbol x_n, \\boldsymbol\\theta)\\,.\n",
    "$$\n",
    "\n",
    "Giải bài toán tối ưu, nghiệm thu được là:\n",
    "\n",
    "$$\n",
    "\\boldsymbol\\theta^{\\text{ML}} = (\\boldsymbol X^T\\boldsymbol X)^{-1}\\boldsymbol X^T\\boldsymbol y\\in\\mathbb{R}^D\\,,\n",
    "$$\n",
    "trong đó:\n",
    "$$\n",
    "\\boldsymbol X = [\\boldsymbol x_1, \\ldots, \\boldsymbol x_N]^T\\in\\mathbb{R}^{N\\times D}\\,,\\quad \\boldsymbol y = [y_1, \\ldots, y_N]^T \\in\\mathbb{R}^N\\,.\n",
    "$$"
   ]
  },
  {
   "cell_type": "code",
   "execution_count": 27,
   "metadata": {},
   "outputs": [],
   "source": [
    "def MLE(X, y):\n",
    "    \"\"\"Hàm ước lượng triển vọng cực đại\n",
    "\n",
    "    Parameters\n",
    "    ----------\n",
    "    X\n",
    "        N x D ma trận dữ liệu huấn luyện đầu vào\n",
    "    y\n",
    "        N x 1 vector của mục tiêu huấn luyện/ quan sát huấn luyện\n",
    "\n",
    "    Returns\n",
    "    -------\n",
    "        tham số triển vọng cực đại (D x 1)\n",
    "    \"\"\"\n",
    "    \n",
    "    # Ước lượng tham số theta_ml bằng phương pháp hồi quy tuyến tính\n",
    "    theta_ml = np.linalg.inv(X.T @ X) @ X.T @ y\n",
    "    return theta_ml"
   ]
  },
  {
   "cell_type": "code",
   "execution_count": 28,
   "metadata": {},
   "outputs": [],
   "source": [
    "def predict_with_estimate(Xtest, theta):\n",
    "    \"\"\"Hàm dự đoán\n",
    "\n",
    "    Parameters\n",
    "    ----------\n",
    "    Xtest\n",
    "        K x D ma trận dữ liệu kiểm tra\n",
    "    theta\n",
    "        D x 1 vector tham số\n",
    "\n",
    "    Returns\n",
    "    -------\n",
    "        kết quả dự đoán f(Xtest); K x 1 vector\n",
    "    \"\"\"\n",
    "    # YOUR CODE HERE\n",
    "    # Dự đoán kết quả\n",
    "    prediction = Xtest @ theta\n",
    "    return prediction "
   ]
  },
  {
   "cell_type": "code",
   "execution_count": 29,
   "metadata": {},
   "outputs": [
    {
     "data": {
      "image/png": "[encoded data removed]",
      "text/plain": [
       "<Figure size 500x400 with 1 Axes>"
      ]
     },
     "metadata": {},
     "output_type": "display_data"
    }
   ],
   "source": [
    "# Tính toán ước lượng triển vọng cực đại\n",
    "theta_ml = MLE(X, y)\n",
    "\n",
    "# dự đoán các giá trị hàm tại các điểm kiểm tra bằng bộ ước lượng triển vọng cực đại\n",
    "mle_pred = predict_with_estimate(X, theta_ml)\n",
    "\n",
    "# Trực quan\n",
    "fig, axs = plt.subplots(1, 1, figsize=(5, 4))\n",
    "\n",
    "axs.scatter(X, y, color='blue', edgecolors='k')\n",
    "axs.plot(X, mle_pred)\n",
    "axs.set_xlabel('Ground truth')\n",
    "axs.set_ylabel('Predicted')\n",
    "axs.set_title('Ground truth vs Predicted')\n",
    "\n",
    "plt.show()"
   ]
  },
  {
   "cell_type": "code",
   "execution_count": 30,
   "metadata": {},
   "outputs": [
    {
     "data": {
      "text/plain": [
       "11.383352122444272"
      ]
     },
     "execution_count": 30,
     "metadata": {},
     "output_type": "execute_result"
    }
   ],
   "source": [
    "# Đánh giá RMSE\n",
    "RMSE(y, mle_pred)"
   ]
  },
  {
   "cell_type": "markdown",
   "metadata": {},
   "source": [
    "TODO: Bạn có nhận xét gì?"
   ]
  },
  {
   "cell_type": "markdown",
   "metadata": {},
   "source": [
    "- Giá trị Root Mean Squared Error (RMSE) khoảng 11.38 cho thấy các dự đoán của mô hình, sử dụng phương pháp ước lượng triển vọng cực đại (MLE), có sai số trung bình khoảng 11.38 đơn vị so với các giá trị thực (y).\n",
    "- Giá trị RMSE là 11.38 có được coi là sai số khá lớn trong bài này => Giá trị RMSE càng thấp thì mô hình dự đoán càng tốt, bởi nó cho thấy các dự đoán gần với giá trị thực tế hơn. Do đó, ta cần có độ chính xác cao hơn. (RMSE thấp hơn)"
   ]
  },
  {
   "cell_type": "markdown",
   "metadata": {},
   "source": [
    "Ta sẽ thêm một bias vào mô hình để nó linh hoạt hơn.\n",
    "\n",
    "$$\n",
    "y = \\theta_0 + \\boldsymbol x^T \\boldsymbol\\theta_1 + \\epsilon\\,,\\quad \\epsilon\\sim\\mathcal N(0,\\sigma^2)\n",
    "$$\n",
    "\n",
    "Định nghĩa:\n",
    "\n",
    "$$\\boldsymbol x_{\\text{aug}} = \\begin{bmatrix}1\\\\\\boldsymbol x\\end{bmatrix}$$\n",
    "\n",
    "Ta viết lại phương trình mô hình hồi quy tuyến tính:\n",
    "\n",
    "$$\n",
    "y = \\boldsymbol x_{\\text{aug}}^T\\boldsymbol\\theta_{\\text{aug}} + \\epsilon\\,,\\quad \\boldsymbol\\theta_{\\text{aug}} = \\begin{bmatrix}\n",
    "\\theta_0\\\\\n",
    "\\boldsymbol\\theta_1\n",
    "\\end{bmatrix}\\,.\n",
    "$$"
   ]
  },
  {
   "cell_type": "code",
   "execution_count": 31,
   "metadata": {},
   "outputs": [
    {
     "data": {
      "image/png": "[encoded data removed]",
      "text/plain": [
       "<Figure size 500x400 with 1 Axes>"
      ]
     },
     "metadata": {},
     "output_type": "display_data"
    }
   ],
   "source": [
    "# Thêm bias vào data (cột đầu tiên full 1)\n",
    "X_aug = np.hstack([np.ones((len(X),1)), X])\n",
    "\n",
    "# Tính toán ước lượng triển vọng cực đại\n",
    "theta_ml = MLE(X_aug, y)\n",
    "\n",
    "# dự đoán các giá trị hàm tại các điểm kiểm tra bằng bộ ước lượng triển vọng cực đại\n",
    "mle_pred = predict_with_estimate(X_aug, theta_ml)\n",
    "\n",
    "# Trực quan\n",
    "fig, axs = plt.subplots(1, 1, figsize=(5, 4))\n",
    "\n",
    "axs.scatter(X, y, color='blue', edgecolors='k')\n",
    "axs.plot(X, mle_pred)\n",
    "axs.set_xlabel('Ground truth')\n",
    "axs.set_ylabel('Predicted')\n",
    "axs.set_title('Ground truth vs Predicted')\n",
    "\n",
    "plt.show()\n"
   ]
  },
  {
   "cell_type": "code",
   "execution_count": 32,
   "metadata": {},
   "outputs": [
    {
     "data": {
      "text/plain": [
       "1.995018672215266"
      ]
     },
     "execution_count": 32,
     "metadata": {},
     "output_type": "execute_result"
    }
   ],
   "source": [
    "# Đánh giá RMSE\n",
    "RMSE(y, mle_pred)"
   ]
  },
  {
   "cell_type": "markdown",
   "metadata": {},
   "source": [
    "TODO: Bạn có nhận xét gì?"
   ]
  },
  {
   "cell_type": "markdown",
   "metadata": {},
   "source": [
    "- Giá trị RMSE là 1.995 cho thấy rằng mô hình trung bình mỗi dự đoán sai lệch khoảng 1.995 đơn vị so với giá trị thực tế.\n",
    "- Giá trị RMSE này có thể coi là khá thấp, cho thấy mô hình có khả năng dự đoán khá tốt và các dự đoán gần với giá trị thực tế.\n",
    "- Khi không có intercept, đường hồi quy sẽ đi qua gốc tọa độ (0,0), điều này có thể làm giảm tính chính xác của mô hình vì nó không phản ánh chính xác sự biến thiên của dữ liệu. Thêm cột 1 (intercept) cho phép mô hình học được chệch (bias) của dữ liệu, giúp điều chỉnh đường hồi quy sao cho phù hợp hơn với dữ liệu thực tế. Việc thêm cột 1 vào dữ liệu (intercept) giúp mô hình hồi quy tuyến tính có thể học mối quan hệ tuyến tính giữa biến đầu vào và biến mục tiêu một cách chính xác hơn, dẫn đến dự đoán tốt hơn và giảm độ lỗi RMSE từ 11.383 xuống còn 1.995."
   ]
  },
  {
   "cell_type": "markdown",
   "metadata": {},
   "source": [
    "### Phi tuyến hóa hồi quy tuyến tính "
   ]
  },
  {
   "cell_type": "markdown",
   "metadata": {},
   "source": [
    "Ta hoàn toàn có thể khớp các hàm phi tuyến tính trong đầu vào $\\boldsymbol x$, miễn là các tham số $\\boldsymbol\\theta$ xuất hiện tuyến tính. Điều này có nghĩa là, chúng ta có thể học các hàm có dạng:\n",
    "\n",
    "$$\n",
    "f(\\boldsymbol x, \\boldsymbol\\theta) = \\sum_{k = 1}^K \\theta_k \\phi_k(\\boldsymbol x)\\,,\n",
    "$$\n",
    "trong đó các đặc trưng $\\phi_k(\\boldsymbol x)$ là các phép biến đổi (có thể phi tuyến tính) của các đầu vào $\\boldsymbol x$.\n",
    "\n",
    "Một trong những loại hàm thường hay sử dụng đó là hàm đa thức bậc $K$, ta viết\n",
    "\n",
    "$$\n",
    "\\sum_{k=0}^K \\theta_k x^k = \\boldsymbol \\phi(x)^T\\boldsymbol\\theta\\,,\\quad\n",
    "\\boldsymbol\\phi(x)= \n",
    "\\begin{bmatrix}\n",
    "x^0\\\\\n",
    "x^1\\\\\n",
    "\\vdots\\\\\n",
    "x^K\n",
    "\\end{bmatrix}\\in\\mathbb{R}^{K+1}\\,.\n",
    "$$\n",
    "Ở đây, $\\boldsymbol\\phi(x)$ là phép biến đổi đặc trưng phi tuyến tính của các đầu vào $x\\in\\mathbb{R}$.\n",
    "\n",
    "Từ đó, tập huấn luyện sau khi biến đổi có dạng:\n",
    "$$\n",
    "\\boldsymbol\\Phi = \\begin{bmatrix}\n",
    "\\boldsymbol\\phi(x_1) & \\boldsymbol\\phi(x_2) & \\cdots & \\boldsymbol\\phi(x_n)\n",
    "\\end{bmatrix}^T \\in\\mathbb{R}^{N\\times K+1}\n",
    "$$"
   ]
  },
  {
   "cell_type": "code",
   "execution_count": 33,
   "metadata": {},
   "outputs": [],
   "source": [
    "def poly_features(X, K):\n",
    "    \"\"\"tính toán ma trận đặc trưng Phi (N x (K+1))\n",
    "\n",
    "    Parameters\n",
    "    ----------\n",
    "    X\n",
    "        đầu vào có kích thước N x 1\n",
    "    k\n",
    "        bậc của đa thức\n",
    "\n",
    "    Returns\n",
    "    -------\n",
    "        tính toán ma trận đặc trưng Phi (N x (K+1))\n",
    "    \"\"\"\n",
    "    # YOUR CODE HERE\n",
    "    N = len(X)\n",
    "    Phi = np.zeros((N, K + 1))  # Initialize the polynomial feature matrix\n",
    "\n",
    "    for i in range(K + 1):\n",
    "        Phi[:, i] = np.power(X, i).flatten()\n",
    "\n",
    "    return Phi"
   ]
  },
  {
   "cell_type": "markdown",
   "metadata": {},
   "source": [
    "Nghiệm tối ưu\n",
    "\n",
    "$$\n",
    "\\boldsymbol \\theta^\\text{ML} = (\\boldsymbol\\Phi^T\\boldsymbol\\Phi)^{-1}\\boldsymbol\\Phi^T\\boldsymbol y\n",
    "$$\n",
    "\n",
    "Nghiệm tối ưu (+tối ưu tính toán số học)\n",
    "\n",
    "$$\n",
    "\\boldsymbol \\theta^\\text{ML} = (\\boldsymbol\\Phi^T\\boldsymbol\\Phi + \\kappa\\boldsymbol I)^{-1}\\boldsymbol\\Phi^T\\boldsymbol y\n",
    "$$"
   ]
  },
  {
   "cell_type": "code",
   "execution_count": 34,
   "metadata": {},
   "outputs": [],
   "source": [
    "def nonlinearMLE(Phi, y):\n",
    "    \"\"\"Non-linear MLE\n",
    "\n",
    "    Parameters\n",
    "    ----------\n",
    "    Phi\n",
    "        ma trận đặc trưng cho dữ liệu đầu vào. Kích thước N x (K+1)\n",
    "    y\n",
    "       các mục tiêu huấn luyện. Kích thước N x 1\n",
    "\n",
    "    Returns\n",
    "    -------\n",
    "        bộ ước lượng triển vọng cực đại theta_ml. Kích thước D x 1\n",
    "    \"\"\"\n",
    "    \n",
    "    kappa = 1e-08 # 'jitter' term; nhằm mục tiêu tối ưu tính toán số học\n",
    "    \n",
    "    # YOUR CODE HERE\n",
    "    N, D = Phi.shape\n",
    "    theta_ml = np.linalg.inv(Phi.T @ Phi + kappa * np.eye(D)) @ Phi.T @ y\n",
    "    return theta_ml"
   ]
  },
  {
   "cell_type": "code",
   "execution_count": 35,
   "metadata": {},
   "outputs": [
    {
     "data": {
      "image/png": "[encoded data removed]",
      "text/plain": [
       "<Figure size 500x400 with 1 Axes>"
      ]
     },
     "metadata": {},
     "output_type": "display_data"
    }
   ],
   "source": [
    "k = 5 # Định nghĩa bậc đa thức mà ta muốn khớp\n",
    "\n",
    "phiX = poly_features(X, k) # N x (K+1) ma trận đặc trưng\n",
    "\n",
    "poly_theta_ml = nonlinearMLE(phiX, y) # bộ ước lượng triển vọng cực đại\n",
    "\n",
    "mle_pred = predict_with_estimate(phiX, poly_theta_ml)\n",
    "\n",
    "# Trực quan\n",
    "fig, axs = plt.subplots(1, 1, figsize=(5, 4))\n",
    "\n",
    "axs.scatter(X, y, color='blue', edgecolors='k')\n",
    "axs.plot(X, mle_pred)\n",
    "axs.set_xlabel('Ground truth')\n",
    "axs.set_ylabel('Predicted')\n",
    "axs.set_title('Ground truth vs Predicted')\n",
    "\n",
    "plt.show()"
   ]
  },
  {
   "cell_type": "code",
   "execution_count": 36,
   "metadata": {},
   "outputs": [
    {
     "data": {
      "text/plain": [
       "1.0451325702487468"
      ]
     },
     "execution_count": 36,
     "metadata": {},
     "output_type": "execute_result"
    }
   ],
   "source": [
    "# Đánh giá RMSE\n",
    "RMSE(y, mle_pred)"
   ]
  },
  {
   "cell_type": "markdown",
   "metadata": {},
   "source": [
    "TODO: Bạn có nhận xét gì?"
   ]
  },
  {
   "cell_type": "markdown",
   "metadata": {},
   "source": [
    "- Sử dụng phi tuyến hóa giúp mô hình hồi quy tuyến tính có khả năng mô hình hóa tốt hơn các mối quan hệ phức tạp giữa các biến đầu vào và biến mục tiêu. Điều này làm tăng hiệu quả và tính khả dụng của mô hình => RMSE giảm từ 1.95 xuống còn 1.045 => cho thấy mô hình có khả năng dự đoán chính xác hơn."
   ]
  }
 ],
 "metadata": {
  "colab": {
   "collapsed_sections": [],
   "name": "Lab03-Clustering.ipynb",
   "provenance": []
  },
  "kernelspec": {
   "display_name": "Python 3 (ipykernel)",
   "language": "python",
   "name": "python3"
  },
  "language_info": {
   "codemirror_mode": {
    "name": "ipython",
    "version": 3
   },
   "file_extension": ".py",
   "mimetype": "text/x-python",
   "name": "python",
   "nbconvert_exporter": "python",
   "pygments_lexer": "ipython3",
   "version": "3.9.13"
  }
 },
 "nbformat": 4,
 "nbformat_minor": 4
}
